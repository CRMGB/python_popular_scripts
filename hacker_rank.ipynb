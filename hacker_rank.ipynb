{
 "cells": [
  {
   "cell_type": "markdown",
   "id": "ec2a3723",
   "metadata": {},
   "source": [
    "# beautiful-binary-string\n",
    "### Group every three binary sequence: \"010\" and count the times it has been found.\n",
    "### Jump to the next itineration once it has been found"
   ]
  },
  {
   "cell_type": "code",
   "execution_count": 2,
   "id": "bab6c86b",
   "metadata": {},
   "outputs": [],
   "source": [
    "def beautifulBinaryString(b):\n",
    "    a = 0\n",
    "    it = iter(range(len(b)))\n",
    "    for i in it:\n",
    "        if i+3<=len(b) and b[i:i+3]==\"010\":\n",
    "            a+=1\n",
    "            next(it, None); next(it, None)\n",
    "    return a\n",
    "\n",
    "assert 2 == beautifulBinaryString(\"0101010\")\n",
    "assert 0 == beautifulBinaryString(\"01100\")\n",
    "assert 3 == beautifulBinaryString(\"0100101010\")\n",
    "assert 10 == beautifulBinaryString(\"0100101010100010110100100110110100011100111110101001011001110111110000101011011111011001111100011101\")"
   ]
  },
  {
   "cell_type": "markdown",
   "id": "5fdc6631",
   "metadata": {},
   "source": [
    "# theLoveLetterMystery\n",
    "### Count the positions in the alphabet to make a series of letters a palindrome from one to the other\n",
    "### There is one catch, you gotta pick the letter with the higher number in the alphabet "
   ]
  },
  {
   "cell_type": "code",
   "execution_count": 7,
   "id": "46547f8c",
   "metadata": {},
   "outputs": [],
   "source": [
    "\n",
    "\n",
    "def theLoveLetterMystery(s):\n",
    "    alphabet = [chr(value) for value in range(97, 123)]\n",
    "    if s == s[::-1]:\n",
    "        return 0\n",
    "    c = 0\n",
    "    for i in range(1, round(len(s)/2)+1):\n",
    "        c += abs(alphabet.index(s[i-1]) - alphabet.index(s[-i]))\n",
    "    return c\n",
    "\n",
    "assert 2 == theLoveLetterMystery(\"abc\")\n",
    "assert 0 == theLoveLetterMystery(\"abcba\")\n",
    "assert 4 == theLoveLetterMystery(\"abcd\")\n",
    "assert 2 == theLoveLetterMystery(\"cba\")\n",
    "\n",
    "assert 6 == theLoveLetterMystery(\"lmnop\")\n",
    "assert 36 == theLoveLetterMystery(\"adslkfjas\")\n",
    "assert 13 == theLoveLetterMystery(\"bafhaef\")\n",
    "assert 40 == theLoveLetterMystery(\"ofrhase\")"
   ]
  },
  {
   "cell_type": "markdown",
   "id": "0e81fe79",
   "metadata": {},
   "source": [
    "## Magic Square\n",
    "### Get imput of some truncated magic sqares and change the number the lowest moves as possible"
   ]
  },
  {
   "cell_type": "code",
   "execution_count": 5,
   "id": "2ba643fa",
   "metadata": {},
   "outputs": [],
   "source": [
    "def create_sqaures():\n",
    "    first_sqare = [[4, 9, 2], [3, 5, 7], [8, 1, 6]]\n",
    "    second_square = [[4, 3, 8], [9, 5, 1], [2, 7, 6]]\n",
    "    all_squares = [first_sqare]\n",
    "    all_squares.append(first_sqare[::-1])\n",
    "    all_squares.append([i[::-1] for i in first_sqare])\n",
    "    all_squares.append(all_squares[2][::-1])\n",
    "    all_squares.append(second_square)\n",
    "    all_squares.append(all_squares[4][::-1])\n",
    "    all_squares.append([i[::-1] for i in all_squares[4]])\n",
    "    all_squares.append(all_squares[6][::-1]) \n",
    "    return all_squares\n",
    "    \n",
    "def formingMagicSquare(s):\n",
    "    all_squares = create_sqaures()\n",
    "        \n",
    "    count = 100\n",
    "    for i in all_squares:\n",
    "        temp = 0\n",
    "        for j in range(3):\n",
    "            for k in range(3):\n",
    "                temp += abs(s[j][k]-i[j][k])\n",
    "        if temp < count:\n",
    "            count = temp\n",
    "\n",
    "    return count\n",
    "\n",
    "assert formingMagicSquare([[5, 3, 4], [1, 5, 8], [6, 4, 2]]) == 7\n",
    "assert formingMagicSquare([[4, 9, 2], [3, 5, 7], [8, 1, 5]]) == 1\n",
    "assert formingMagicSquare([[4, 8, 2], [4, 5, 7], [6, 1, 6]]) == 4"
   ]
  },
  {
   "cell_type": "code",
   "execution_count": null,
   "id": "f435da25",
   "metadata": {},
   "outputs": [],
   "source": []
  }
 ],
 "metadata": {
  "kernelspec": {
   "display_name": "Python 3 (ipykernel)",
   "language": "python",
   "name": "python3"
  },
  "language_info": {
   "codemirror_mode": {
    "name": "ipython",
    "version": 3
   },
   "file_extension": ".py",
   "mimetype": "text/x-python",
   "name": "python",
   "nbconvert_exporter": "python",
   "pygments_lexer": "ipython3",
   "version": "3.7.13"
  }
 },
 "nbformat": 4,
 "nbformat_minor": 5
}
