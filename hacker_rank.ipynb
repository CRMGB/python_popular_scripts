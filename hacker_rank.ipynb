{
 "cells": [
  {
   "cell_type": "markdown",
   "id": "06fe8f37",
   "metadata": {},
   "source": [
    "# beautiful-binary-string\n",
    "### Group every three binary sequence: \"010\" and count the times it has been found.\n",
    "### Jump to the next itineration once it has been found"
   ]
  },
  {
   "cell_type": "code",
   "execution_count": 13,
   "id": "fe79c860",
   "metadata": {},
   "outputs": [],
   "source": [
    "def beautifulBinaryString(b):\n",
    "    a = 0\n",
    "    it = iter(range(len(b)))\n",
    "    for i in it:\n",
    "        if i+3<=len(b) and b[i:i+3]==\"010\":\n",
    "            a+=1\n",
    "            next(it, None); next(it, None)\n",
    "    return a\n",
    "\n",
    "assert 2 == beautifulBinaryString(\"0101010\")\n",
    "assert 0 == beautifulBinaryString(\"01100\")\n",
    "assert 3 == beautifulBinaryString(\"0100101010\")\n",
    "assert 10 == beautifulBinaryString(\"0100101010100010110100100110110100011100111110101001011001110111110000101011011111011001111100011101\")"
   ]
  },
  {
   "cell_type": "code",
   "execution_count": null,
   "id": "fa7a6034",
   "metadata": {},
   "outputs": [],
   "source": []
  },
  {
   "cell_type": "code",
   "execution_count": null,
   "id": "42742a7d",
   "metadata": {},
   "outputs": [],
   "source": []
  }
 ],
 "metadata": {
  "kernelspec": {
   "display_name": "Python 3 (ipykernel)",
   "language": "python",
   "name": "python3"
  },
  "language_info": {
   "codemirror_mode": {
    "name": "ipython",
    "version": 3
   },
   "file_extension": ".py",
   "mimetype": "text/x-python",
   "name": "python",
   "nbconvert_exporter": "python",
   "pygments_lexer": "ipython3",
   "version": "3.7.13"
  }
 },
 "nbformat": 4,
 "nbformat_minor": 5
}
