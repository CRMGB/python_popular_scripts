{
 "cells": [
  {
   "cell_type": "markdown",
   "id": "60b3914e",
   "metadata": {},
   "source": [
    "# beautiful-binary-string\n",
    "### Group every three binary sequence: \"010\" and count the times it has been found.\n",
    "### Jump to the next itineration once it has been found"
   ]
  },
  {
   "cell_type": "code",
   "execution_count": 13,
   "id": "2848e8d1",
   "metadata": {},
   "outputs": [],
   "source": [
    "def beautifulBinaryString(b):\n",
    "    a = 0\n",
    "    it = iter(range(len(b)))\n",
    "    for i in it:\n",
    "        if i+3<=len(b) and b[i:i+3]==\"010\":\n",
    "            a+=1\n",
    "            next(it, None); next(it, None)\n",
    "    return a\n",
    "\n",
    "assert 2 == beautifulBinaryString(\"0101010\")\n",
    "assert 0 == beautifulBinaryString(\"01100\")\n",
    "assert 3 == beautifulBinaryString(\"0100101010\")\n",
    "assert 10 == beautifulBinaryString(\"0100101010100010110100100110110100011100111110101001011001110111110000101011011111011001111100011101\")"
   ]
  },
  {
   "cell_type": "markdown",
   "id": "fb3e2483",
   "metadata": {},
   "source": [
    "# theLoveLetterMystery\n",
    "### Count the positions in the alphabet to make a series of letters a palindrome from one to the other\n",
    "### There is one catch, you gotta pick the letter with the higher number in the alphabet "
   ]
  },
  {
   "cell_type": "code",
   "execution_count": 17,
   "id": "caca6d1a",
   "metadata": {},
   "outputs": [
    {
     "ename": "AssertionError",
     "evalue": "",
     "output_type": "error",
     "traceback": [
      "\u001b[0;31m---------------------------------------------------------------------------\u001b[0m",
      "\u001b[0;31mAssertionError\u001b[0m                            Traceback (most recent call last)",
      "\u001b[0;32m/tmp/ipykernel_36666/3422631565.py\u001b[0m in \u001b[0;36m<module>\u001b[0;34m\u001b[0m\n\u001b[1;32m     11\u001b[0m \u001b[0;32massert\u001b[0m \u001b[0;36m2\u001b[0m \u001b[0;34m==\u001b[0m \u001b[0mtheLoveLetterMystery\u001b[0m\u001b[0;34m(\u001b[0m\u001b[0;34m\"abc\"\u001b[0m\u001b[0;34m)\u001b[0m\u001b[0;34m\u001b[0m\u001b[0;34m\u001b[0m\u001b[0m\n\u001b[1;32m     12\u001b[0m \u001b[0;32massert\u001b[0m \u001b[0;36m0\u001b[0m \u001b[0;34m==\u001b[0m \u001b[0mtheLoveLetterMystery\u001b[0m\u001b[0;34m(\u001b[0m\u001b[0;34m\"abcba\"\u001b[0m\u001b[0;34m)\u001b[0m\u001b[0;34m\u001b[0m\u001b[0;34m\u001b[0m\u001b[0m\n\u001b[0;32m---> 13\u001b[0;31m \u001b[0;32massert\u001b[0m \u001b[0;36m4\u001b[0m \u001b[0;34m==\u001b[0m \u001b[0mtheLoveLetterMystery\u001b[0m\u001b[0;34m(\u001b[0m\u001b[0;34m\"abcd\"\u001b[0m\u001b[0;34m)\u001b[0m\u001b[0;34m\u001b[0m\u001b[0;34m\u001b[0m\u001b[0m\n\u001b[0m\u001b[1;32m     14\u001b[0m \u001b[0;32massert\u001b[0m \u001b[0;36m2\u001b[0m \u001b[0;34m==\u001b[0m \u001b[0mtheLoveLetterMystery\u001b[0m\u001b[0;34m(\u001b[0m\u001b[0;34m\"cba\"\u001b[0m\u001b[0;34m)\u001b[0m\u001b[0;34m\u001b[0m\u001b[0;34m\u001b[0m\u001b[0m\n\u001b[1;32m     15\u001b[0m \u001b[0;34m\u001b[0m\u001b[0m\n",
      "\u001b[0;31mAssertionError\u001b[0m: "
     ]
    }
   ],
   "source": [
    "def theLoveLetterMystery(s):\n",
    "    alphabet = [chr(value) for value in range(97, 123)]\n",
    "    if s == s[::-1]:\n",
    "        return 0\n",
    "    c = 0\n",
    "    for i in range(1, round(len(s)/2)+1):\n",
    "        c += abs(alphabet.index(s[i-1]) - alphabet.index(s[-i]))\n",
    "    return c\n",
    "\n",
    "assert 2 == theLoveLetterMystery(\"abc\")\n",
    "assert 0 == theLoveLetterMystery(\"abcba\")\n",
    "assert 4 == theLoveLetterMystery(\"abcd\")\n",
    "assert 2 == theLoveLetterMystery(\"cba\")\n",
    "\n",
    "assert 6 == theLoveLetterMystery(\"lmnop\")\n",
    "assert 36 == theLoveLetterMystery(\"adslkfjas\")\n",
    "assert 13 == theLoveLetterMystery(\"bafhaef\")\n",
    "assert 40 == theLoveLetterMystery(\"ofrhase\")"
   ]
  },
  {
   "cell_type": "code",
   "execution_count": null,
   "id": "ecfb823b",
   "metadata": {},
   "outputs": [],
   "source": []
  }
 ],
 "metadata": {
  "kernelspec": {
   "display_name": "Python 3 (ipykernel)",
   "language": "python",
   "name": "python3"
  },
  "language_info": {
   "codemirror_mode": {
    "name": "ipython",
    "version": 3
   },
   "file_extension": ".py",
   "mimetype": "text/x-python",
   "name": "python",
   "nbconvert_exporter": "python",
   "pygments_lexer": "ipython3",
   "version": "3.7.13"
  }
 },
 "nbformat": 4,
 "nbformat_minor": 5
}
