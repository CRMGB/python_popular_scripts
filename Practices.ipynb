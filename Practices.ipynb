{
 "cells": [
  {
   "cell_type": "markdown",
   "id": "8f61520b",
   "metadata": {},
   "source": [
    "# Method to measure the time execution of a given method\n",
    "### Better for large methods, we will show underneath with the fibonacci you'd better use timeit"
   ]
  },
  {
   "cell_type": "code",
   "execution_count": 5,
   "id": "5f0de910",
   "metadata": {},
   "outputs": [],
   "source": [
    "import time\n",
    "from functools import wraps\n",
    "from time import sleep\n",
    "import timeit\n",
    "\n",
    "def timing(f):\n",
    "    \"\"\"Decorator for timing functions\n",
    "    Usage:\n",
    "    @timing\n",
    "    def function(a):\n",
    "        pass\n",
    "    \"\"\"\n",
    "\n",
    "    @wraps(f)\n",
    "    def wrapper(*args, **kwargs):\n",
    "        start = time.time()\n",
    "        result = f(*args, **kwargs)\n",
    "        end = time.time()\n",
    "        print('function:%r took: %2.2f sec' % (f.__name__,  end - start))\n",
    "        return result\n",
    "    return wrapper"
   ]
  },
  {
   "cell_type": "markdown",
   "id": "04a05901",
   "metadata": {},
   "source": [
    "# Loading bars progress:"
   ]
  },
  {
   "cell_type": "code",
   "execution_count": 83,
   "id": "0655695b",
   "metadata": {},
   "outputs": [
    {
     "data": {
      "text/html": [
       "\n",
       "<style>\n",
       "    /* Turns off some styling */\n",
       "    progress {\n",
       "        /* gets rid of default border in Firefox and Opera. */\n",
       "        border: none;\n",
       "        /* Needs to be in here for Safari polyfill so background images work as expected. */\n",
       "        background-size: auto;\n",
       "    }\n",
       "    progress:not([value]), progress:not([value])::-webkit-progress-bar {\n",
       "        background: repeating-linear-gradient(45deg, #7e7e7e, #7e7e7e 10px, #5c5c5c 10px, #5c5c5c 20px);\n",
       "    }\n",
       "    .progress-bar-interrupted, .progress-bar-interrupted::-webkit-progress-bar {\n",
       "        background: #F44336;\n",
       "    }\n",
       "</style>\n"
      ],
      "text/plain": [
       "<IPython.core.display.HTML object>"
      ]
     },
     "metadata": {},
     "output_type": "display_data"
    },
    {
     "data": {
      "text/html": [
       "Finished loop 0.<p>Finished loop 1.<p>Finished loop 2.<p>Finished loop 3.<p>Finished loop 4.<p>Finished loop 5.<p>Finished loop 6.<p>Finished loop 7.<p>Finished loop 8.<p>Finished loop 9."
      ],
      "text/plain": [
       "<IPython.core.display.HTML object>"
      ]
     },
     "metadata": {},
     "output_type": "display_data"
    },
    {
     "name": "stdout",
     "output_type": "stream",
     "text": [
      "function:'bars' took: 10.67 sec\n"
     ]
    }
   ],
   "source": [
    "from fastprogress.fastprogress import master_bar, progress_bar\n",
    "from time import sleep\n",
    "\n",
    "# function:'bars' took: 10.67 sec\n",
    "@timing\n",
    "def bars():\n",
    "    mb = master_bar(range(10))\n",
    "    for i in mb:\n",
    "        for j in progress_bar(range(100), parent=mb):\n",
    "            sleep(0.01)\n",
    "            mb.child.comment = f'second bar stat'\n",
    "        mb.main_bar.comment = f'first bar stat'\n",
    "        mb.write(f'Finished loop {i}.')  \n",
    "        \n",
    "bars()"
   ]
  },
  {
   "cell_type": "markdown",
   "id": "8d71bd4a",
   "metadata": {},
   "source": [
    "# Palindrome number (It can be read backwards):"
   ]
  },
  {
   "cell_type": "code",
   "execution_count": 6,
   "id": "3cc73fc7",
   "metadata": {},
   "outputs": [],
   "source": [
    "class Integer:\n",
    "    def __init(self, n):\n",
    "        if not isinstance(n, int):\n",
    "            raise TypeError('Invalid initializer')\n",
    "        self.number = n\n",
    "\n",
    "    def is_palindrome(self):\n",
    "        return str(self.number) == str(self.number)[::-1]\n",
    "\n",
    "# assert Integer(123).is_palindrome() is False\n",
    "# assert Integer(12321).is_palindrome() is True\n",
    "\n",
    "def is_palindrome(number):\n",
    "    return str(number) == str(number)[::-1]\n",
    "        \n",
    "assert is_palindrome(123) is False\n",
    "assert is_palindrome(12321) is True"
   ]
  },
  {
   "cell_type": "markdown",
   "id": "29e4087f",
   "metadata": {},
   "source": [
    "# Fibonacci (each number is the sum of the two preceding ones):\n",
    "### our wrap method will give always 0.00 sec so it's not a good way of measuring a small lagorithm like this,\n",
    "### Therefore we are using timeit.timeit() to do such measurement, result by the time of execution: \n",
    "### Execution time:  0.015578584003378637 secs"
   ]
  },
  {
   "cell_type": "code",
   "execution_count": 92,
   "id": "be0d9f73",
   "metadata": {},
   "outputs": [
    {
     "name": "stdout",
     "output_type": "stream",
     "text": [
      "function:'fibonacci' took: 0.00 sec\n",
      "[1, 2, 3, 5, 8, 13, 21, 34, 55, 89]\n",
      "Execution time:  0.015578584003378637 secs\n"
     ]
    }
   ],
   "source": [
    "# Execution time:  0.019254232000093907\n",
    "my_code = '''\n",
    "# @timing\n",
    "def fibonacci(N):\n",
    "    a, b = 1, 2\n",
    "    for _ in range(N):\n",
    "        yield a\n",
    "        a, b = b, a + b\n",
    "list(fibonacci(10))\n",
    "'''\n",
    "print(list(fibonacci(10)))\n",
    "print(\"Execution time: \",timeit.timeit(stmt = my_code, number = 10000), \"secs\")"
   ]
  },
  {
   "cell_type": "markdown",
   "id": "c25dde70",
   "metadata": {},
   "source": [
    "### Option with no yield, surprisingly it's faster than yield! Execution time:  0.0020947209995938465"
   ]
  },
  {
   "cell_type": "code",
   "execution_count": 106,
   "id": "9431567a",
   "metadata": {},
   "outputs": [
    {
     "name": "stdout",
     "output_type": "stream",
     "text": [
      "function:'fibonacci' took: 0.00 sec\n",
      "[1, 2, 3, 5, 8, 13, 21, 34, 55, 89]\n",
      "Execution time:  0.00285371599602513 secs\n"
     ]
    }
   ],
   "source": [
    "my_code = ''' \n",
    "# @timing\n",
    "def fibonacci(N):\n",
    "    result = []\n",
    "    a, b = 1, 2\n",
    "    for _ in range(N):\n",
    "        result.append(a)\n",
    "        a, b = b, a + b\n",
    "    return result\n",
    "'''\n",
    "print(fibonacci(10))\n",
    "print(\"Execution time: \", timeit.timeit(stmt = my_code, number = 10000), \"secs\")"
   ]
  },
  {
   "cell_type": "markdown",
   "id": "a7503807",
   "metadata": {},
   "source": [
    "### Option with recursion, this is the worst case, giving: Execution time:  2.7309635109995725 secs"
   ]
  },
  {
   "cell_type": "code",
   "execution_count": 105,
   "id": "cf676a04",
   "metadata": {},
   "outputs": [
    {
     "name": "stdout",
     "output_type": "stream",
     "text": [
      "[0, 1, 1, 2, 3, 5, 8, 13, 21, 34, 55, 89, 144, 233, 377]\n",
      "Execution time:  2.7309635109995725 secs\n"
     ]
    }
   ],
   "source": [
    "my_code = '''\n",
    "# @timing\n",
    "def fibonacci_of(n):\n",
    "    if n in {0, 1}:  # Base case\n",
    "            return n\n",
    "    return fibonacci_of(n - 1) + fibonacci_of(n - 2)  # Recursive case\n",
    "result = [fibonacci_of(n) for n in range(15)]\n",
    "'''\n",
    "print(result)\n",
    "print(\"Execution time: \", timeit.timeit(stmt = my_code, number = 10000), \"secs\")\n"
   ]
  },
  {
   "cell_type": "markdown",
   "id": "024610ff",
   "metadata": {},
   "source": [
    "# Binary search tree"
   ]
  },
  {
   "cell_type": "code",
   "execution_count": 8,
   "id": "bf551a1f",
   "metadata": {},
   "outputs": [
    {
     "name": "stdout",
     "output_type": "stream",
     "text": [
      "None\n"
     ]
    }
   ],
   "source": [
    "import collections\n",
    "\n",
    "Node = collections.namedtuple('Node', ['left', 'right', 'value'])\n",
    "\n",
    "def contains(root, value):\n",
    "    pass\n",
    "        \n",
    "n1 = Node(value=1, left=None, right=None)\n",
    "n3 = Node(value=3, left=None, right=None)\n",
    "n2 = Node(value=2, left=n1, right=n3)\n",
    "        \n",
    "print(contains(n2, 3))"
   ]
  },
  {
   "cell_type": "markdown",
   "id": "b166a374",
   "metadata": {},
   "source": [
    "## Given a list of integers and a target value, return True if the target value\n",
    "## can be obtained by adding two different elements in the list, False otherwise"
   ]
  },
  {
   "cell_type": "code",
   "execution_count": 7,
   "id": "db0cb3c2",
   "metadata": {},
   "outputs": [
    {
     "name": "stdout",
     "output_type": "stream",
     "text": [
      "True\n",
      "False\n",
      "Execution time CODE 1:  0.0006213149999894085 secs\n",
      "True\n",
      "False\n",
      "Execution time CODE 2:  0.0004959030002282816 secs\n"
     ]
    }
   ],
   "source": [
    "\"\"\"It works with only an list of length of 4\"\"\"\n",
    "\n",
    "my_code = '''\n",
    "def find_values(list_arg, target):\n",
    "    for i in range(len(list_arg)):\n",
    "        if i<len(list_arg)-1:\n",
    "            result = list_arg[i] + list_arg[i+1]\n",
    "            if result == target and result is not None:\n",
    "                return True\n",
    "        else:\n",
    "            return False\n",
    "'''\n",
    "        \n",
    "print(find_values([1,2,3,4,5,6], 8))\n",
    "print(find_values([-2, 0, 3, 4], 6))\n",
    "print(\"Execution time CODE 1: \", timeit.timeit(stmt = my_code, number = 10000), \"secs\")\n",
    "\n",
    "\"\"\"It works for any length of the list\"\"\"\n",
    "my_code = '''\n",
    "def find_values(nums, target):\n",
    "    l = []\n",
    "    d = dict()\n",
    "    for pos, num in enumerate(nums):\n",
    "        if target-num in d:\n",
    "            l.append(d[target-num])\n",
    "            l.append(pos)\n",
    "            break\n",
    "        d[num] = pos\n",
    "    if len(l)<=0:\n",
    "        return False\n",
    "    return True\n",
    "'''\n",
    "    \n",
    "print(find_values([1,2,3,4,5,6], 9))\n",
    "print(find_values([-2, 0, 3, 4], 6))\n",
    "\n",
    "print(\"Execution time CODE 2: \", timeit.timeit(stmt = my_code, number = 10000), \"secs\")\n"
   ]
  },
  {
   "cell_type": "code",
   "execution_count": null,
   "id": "25eb5a1f",
   "metadata": {},
   "outputs": [],
   "source": []
  }
 ],
 "metadata": {
  "kernelspec": {
   "display_name": "Python 3 (ipykernel)",
   "language": "python",
   "name": "python3"
  },
  "language_info": {
   "codemirror_mode": {
    "name": "ipython",
    "version": 3
   },
   "file_extension": ".py",
   "mimetype": "text/x-python",
   "name": "python",
   "nbconvert_exporter": "python",
   "pygments_lexer": "ipython3",
   "version": "3.7.13"
  }
 },
 "nbformat": 4,
 "nbformat_minor": 5
}
