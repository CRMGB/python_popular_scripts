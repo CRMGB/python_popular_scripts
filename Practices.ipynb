{
 "cells": [
  {
   "cell_type": "markdown",
   "id": "27243c72",
   "metadata": {},
   "source": [
    "# Method to measure the time execution of a given method\n",
    "### Better for large methods, we will show underneath with the fibonacci you'd better use timeit"
   ]
  },
  {
   "cell_type": "code",
   "execution_count": 71,
   "id": "da9cdd72",
   "metadata": {},
   "outputs": [],
   "source": [
    "import time\n",
    "from functools import wraps\n",
    "from time import sleep\n",
    "import timeit\n",
    "\n",
    "def timing(f):\n",
    "    \"\"\"Decorator for timing functions\n",
    "    Usage:\n",
    "    @timing\n",
    "    def function(a):\n",
    "        pass\n",
    "    \"\"\"\n",
    "\n",
    "    @wraps(f)\n",
    "    def wrapper(*args, **kwargs):\n",
    "        start = time.time()\n",
    "        result = f(*args, **kwargs)\n",
    "        end = time.time()\n",
    "        print('function:%r took: %2.2f sec' % (f.__name__,  end - start))\n",
    "        return result\n",
    "    return wrapper"
   ]
  },
  {
   "cell_type": "markdown",
   "id": "39e5bdcc",
   "metadata": {},
   "source": [
    "# Loading bars progress:"
   ]
  },
  {
   "cell_type": "code",
   "execution_count": 83,
   "id": "d77dad91",
   "metadata": {},
   "outputs": [
    {
     "data": {
      "text/html": [
       "\n",
       "<style>\n",
       "    /* Turns off some styling */\n",
       "    progress {\n",
       "        /* gets rid of default border in Firefox and Opera. */\n",
       "        border: none;\n",
       "        /* Needs to be in here for Safari polyfill so background images work as expected. */\n",
       "        background-size: auto;\n",
       "    }\n",
       "    progress:not([value]), progress:not([value])::-webkit-progress-bar {\n",
       "        background: repeating-linear-gradient(45deg, #7e7e7e, #7e7e7e 10px, #5c5c5c 10px, #5c5c5c 20px);\n",
       "    }\n",
       "    .progress-bar-interrupted, .progress-bar-interrupted::-webkit-progress-bar {\n",
       "        background: #F44336;\n",
       "    }\n",
       "</style>\n"
      ],
      "text/plain": [
       "<IPython.core.display.HTML object>"
      ]
     },
     "metadata": {},
     "output_type": "display_data"
    },
    {
     "data": {
      "text/html": [
       "Finished loop 0.<p>Finished loop 1.<p>Finished loop 2.<p>Finished loop 3.<p>Finished loop 4.<p>Finished loop 5.<p>Finished loop 6.<p>Finished loop 7.<p>Finished loop 8.<p>Finished loop 9."
      ],
      "text/plain": [
       "<IPython.core.display.HTML object>"
      ]
     },
     "metadata": {},
     "output_type": "display_data"
    },
    {
     "name": "stdout",
     "output_type": "stream",
     "text": [
      "function:'bars' took: 10.67 sec\n"
     ]
    }
   ],
   "source": [
    "from fastprogress.fastprogress import master_bar, progress_bar\n",
    "from time import sleep\n",
    "\n",
    "# function:'bars' took: 10.67 sec\n",
    "@timing\n",
    "def bars():\n",
    "    mb = master_bar(range(10))\n",
    "    for i in mb:\n",
    "        for j in progress_bar(range(100), parent=mb):\n",
    "            sleep(0.01)\n",
    "            mb.child.comment = f'second bar stat'\n",
    "        mb.main_bar.comment = f'first bar stat'\n",
    "        mb.write(f'Finished loop {i}.')  \n",
    "        \n",
    "bars()"
   ]
  },
  {
   "cell_type": "markdown",
   "id": "fe054aa7",
   "metadata": {},
   "source": [
    "# Palindrome number (It can be read backwards):"
   ]
  },
  {
   "cell_type": "code",
   "execution_count": 6,
   "id": "6902d083",
   "metadata": {},
   "outputs": [],
   "source": [
    "class Integer:\n",
    "    def __init(self, n):\n",
    "        if not isinstance(n, int):\n",
    "            raise TypeError('Invalid initializer')\n",
    "        self.number = n\n",
    "\n",
    "    def is_palindrome(self):\n",
    "        return str(self.number) == str(self.number)[::-1]\n",
    "\n",
    "# assert Integer(123).is_palindrome() is False\n",
    "# assert Integer(12321).is_palindrome() is True\n",
    "\n",
    "def is_palindrome(number):\n",
    "    return str(number) == str(number)[::-1]\n",
    "        \n",
    "assert is_palindrome(123) is False\n",
    "assert is_palindrome(12321) is True"
   ]
  },
  {
   "cell_type": "markdown",
   "id": "c071158f",
   "metadata": {},
   "source": [
    "# Fibonacci (each number is the sum of the two preceding ones):\n",
    "### our wrap method will give always 0.00 sec"
   ]
  },
  {
   "cell_type": "code",
   "execution_count": 92,
   "id": "ebd21ce5",
   "metadata": {},
   "outputs": [
    {
     "name": "stdout",
     "output_type": "stream",
     "text": [
      "function:'fibonacci' took: 0.00 sec\n",
      "[1, 2, 3, 5, 8, 13, 21, 34, 55, 89]\n",
      "Execution time:  0.015578584003378637 secs\n"
     ]
    }
   ],
   "source": [
    "# Execution time:  0.019254232000093907\n",
    "my_code = '''\n",
    "def fibonacci(N):\n",
    "    a, b = 1, 2\n",
    "    for _ in range(N):\n",
    "        yield a\n",
    "        a, b = b, a + b\n",
    "list(fibonacci(10))\n",
    "'''\n",
    "print(list(fibonacci(10)))\n",
    "print(\"Execution time: \",timeit.timeit(stmt = my_code, number = 10000), \"secs\")"
   ]
  },
  {
   "cell_type": "markdown",
   "id": "933bd514",
   "metadata": {},
   "source": [
    "### Option with no yield, surprisingly it's faster than yield! Execution time:  0.0020947209995938465"
   ]
  },
  {
   "cell_type": "code",
   "execution_count": 91,
   "id": "256187ac",
   "metadata": {},
   "outputs": [
    {
     "name": "stdout",
     "output_type": "stream",
     "text": [
      "function:'fibonacci' took: 0.00 sec\n",
      "[1, 2, 3, 5, 8, 13, 21, 34, 55, 89]\n",
      "Execution time:  0.0022598560026381165  secs\n"
     ]
    }
   ],
   "source": [
    "my_code = ''' \n",
    "def fibonacci(N):\n",
    "    result = []\n",
    "    a, b = 1, 2\n",
    "    for _ in range(N):\n",
    "        result.append(a)\n",
    "        a, b = b, a + b\n",
    "    return result\n",
    "'''\n",
    "print(fibonacci(10))\n",
    "print(\"Execution time: \", timeit.timeit(stmt = my_code, number = 10000), \"secs\")"
   ]
  },
  {
   "cell_type": "markdown",
   "id": "62e190e6",
   "metadata": {},
   "source": [
    "### Option with recursion, this is the worst case, giving: Execution time:  3.1666208730021026 secs"
   ]
  },
  {
   "cell_type": "code",
   "execution_count": 96,
   "id": "f1b74d6e",
   "metadata": {},
   "outputs": [
    {
     "name": "stdout",
     "output_type": "stream",
     "text": [
      "[1, 2, 3, 5, 8, 13, 21, 34, 55, 89]\n",
      "Execution time:  4.616425753003568 secs\n"
     ]
    }
   ],
   "source": [
    "my_code = '''\n",
    "def fibonacci_of(n):\n",
    "    if n in {0, 1}:  # Base case\n",
    "            return n\n",
    "    return fibonacci_of(n - 1) + fibonacci_of(n - 2)  # Recursive case\n",
    "result = [fibonacci_of(n) for n in range(15)]\n",
    "'''\n",
    "print(result)\n",
    "print(\"Execution time: \", timeit.timeit(stmt = my_code, number = 10000), \"secs\")\n"
   ]
  },
  {
   "cell_type": "code",
   "execution_count": null,
   "id": "32b22d99",
   "metadata": {},
   "outputs": [],
   "source": []
  },
  {
   "cell_type": "code",
   "execution_count": null,
   "id": "0c3f256f",
   "metadata": {},
   "outputs": [],
   "source": []
  }
 ],
 "metadata": {
  "kernelspec": {
   "display_name": "Python 3 (ipykernel)",
   "language": "python",
   "name": "python3"
  },
  "language_info": {
   "codemirror_mode": {
    "name": "ipython",
    "version": 3
   },
   "file_extension": ".py",
   "mimetype": "text/x-python",
   "name": "python",
   "nbconvert_exporter": "python",
   "pygments_lexer": "ipython3",
   "version": "3.7.13"
  }
 },
 "nbformat": 4,
 "nbformat_minor": 5
}
