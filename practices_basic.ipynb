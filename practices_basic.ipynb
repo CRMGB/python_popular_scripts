{
 "cells": [
  {
   "cell_type": "markdown",
   "metadata": {},
   "source": [
    "# Method to measure the time execution of a given method\n",
    "### Better performance than timeit"
   ]
  },
  {
   "cell_type": "code",
   "execution_count": 36,
   "metadata": {},
   "outputs": [],
   "source": [
    "import time\n",
    "import timeit\n",
    "from functools import wraps\n",
    "from time import sleep\n",
    "\n",
    "\n",
    "def timing(f):\n",
    "    \"\"\"Decorator for timing functions\n",
    "    Usage:\n",
    "    @timing\n",
    "    def function(a):\n",
    "        pass\n",
    "    \"\"\"\n",
    "\n",
    "    @wraps(f)\n",
    "    def wrapper(*args, **kwargs):\n",
    "        start = time.time()\n",
    "        result = f(*args, **kwargs)\n",
    "        end = time.time()\n",
    "        print('function:%r took: %2.22f secs' % (f.__name__,  end - start))\n",
    "        return result\n",
    "    return wrapper"
   ]
  },
  {
   "cell_type": "markdown",
   "metadata": {},
   "source": [
    "# Loading bars progress:"
   ]
  },
  {
   "cell_type": "code",
   "execution_count": 37,
   "metadata": {},
   "outputs": [
    {
     "data": {
      "text/html": [
       "Finished loop 0.<p>Finished loop 1.<p>Finished loop 2.<p>Finished loop 3.<p>Finished loop 4.<p>Finished loop 5.<p>Finished loop 6.<p>Finished loop 7.<p>Finished loop 8.<p>Finished loop 9."
      ],
      "text/plain": [
       "<IPython.core.display.HTML object>"
      ]
     },
     "metadata": {},
     "output_type": "display_data"
    },
    {
     "name": "stdout",
     "output_type": "stream",
     "text": [
      "function:'bars' took: 10.4152235984802246093750 secs\n"
     ]
    }
   ],
   "source": [
    "from fastprogress.fastprogress import master_bar, progress_bar\n",
    "\n",
    "# function:'bars' took: 10.67 sec\n",
    "@timing\n",
    "def bars():\n",
    "    mb = master_bar(range(10))\n",
    "    for i in mb:\n",
    "        for j in progress_bar(range(100), parent=mb):\n",
    "            sleep(0.01)\n",
    "            mb.child.comment = f'second bar stat'\n",
    "        mb.main_bar.comment = f'first bar stat'\n",
    "        mb.write(f'Finished loop {i}.')  \n",
    "        \n",
    "bars()"
   ]
  },
  {
   "cell_type": "markdown",
   "metadata": {},
   "source": [
    "# Palindrome number (It can be read backwards):"
   ]
  },
  {
   "cell_type": "code",
   "execution_count": 39,
   "metadata": {},
   "outputs": [
    {
     "name": "stdout",
     "output_type": "stream",
     "text": [
      "function:'is_palindrome' took: 0.0000100135803222656250 secs\n",
      "False\n",
      "function:'is_palindrome' took: 0.0000083446502685546875 secs\n",
      "True\n",
      "function:'is_palindrome' took: 0.0002987384796142578125 secs\n",
      "False\n",
      "function:'is_palindrome' took: 0.0001876354217529296875 secs\n",
      "True\n"
     ]
    }
   ],
   "source": [
    "from typeguard import typechecked\n",
    "\n",
    "\"\"\" First Example we use a class to check the type.\n",
    "Secondly we use typechecked with hust a method, \n",
    "interesting enough, the class with the constructor is faster! \"\"\"\n",
    "\n",
    "\n",
    "class Integer:\n",
    "    def __init__(self, n):\n",
    "        if not isinstance(n, int):\n",
    "            raise TypeError('Invalid initializer')\n",
    "        self.number = n\n",
    "\n",
    "    @timing\n",
    "    def is_palindrome(self):\n",
    "        return str(self.number) == str(self.number)[::-1]\n",
    "\n",
    "print(Integer(123).is_palindrome())\n",
    "print(Integer(12321).is_palindrome())\n",
    "\n",
    "@timing\n",
    "@typechecked\n",
    "def is_palindrome(number: int):\n",
    "    return str(number) == str(number)[::-1]\n",
    "\n",
    "\n",
    "print(is_palindrome(123))\n",
    "print(is_palindrome(12321))\n",
    "\n"
   ]
  },
  {
   "cell_type": "markdown",
   "metadata": {},
   "source": [
    "# Fibonacci (each number is the sum of the two preceding ones):\n",
    "### our wrap method is way faster than timeit():\n",
    "### With  timeit: 0.0000119209289550781250 secs\n",
    "### With our def timing(f): wrap method: 0.0000007152557373046875 secs\n",
    "### Therefore we are going to use the wrap method for future executions, also the wrap method looks cleaner when applied."
   ]
  },
  {
   "cell_type": "code",
   "execution_count": 45,
   "metadata": {},
   "outputs": [
    {
     "name": "stdout",
     "output_type": "stream",
     "text": [
      "function:'fibonacci' took: 0.0000009536743164062500 secs\n",
      "[1, 2, 3, 5, 8, 13, 21, 34, 55, 89]\n",
      "Execution time:  0.03176308199908817 secs\n",
      "function:'fibonacci' took: 0.0000004768371582031250 secs\n",
      "[1, 2, 3, 5, 8, 13, 21, 34, 55, 89]\n"
     ]
    }
   ],
   "source": [
    "# Timeit execution\n",
    "my_code = '''\n",
    "def fibonacci(N):\n",
    "    a, b = 1, 2\n",
    "    for _ in range(N):\n",
    "        yield a\n",
    "        a, b = b, a + b\n",
    "list(fibonacci(10))\n",
    "'''\n",
    "print(list(fibonacci(10)))\n",
    "print(\"Execution time: \",timeit.timeit(stmt = my_code, number = 10000), \"secs\")\n",
    "\n",
    "# Wrap execution\n",
    "@timing\n",
    "def fibonacci(N):\n",
    "    a, b = 1, 2\n",
    "    for _ in range(N):\n",
    "        yield a\n",
    "        a, b = b, a + b\n",
    "\n",
    "print(list(fibonacci(10)))\n"
   ]
  },
  {
   "cell_type": "markdown",
   "metadata": {},
   "source": [
    "### Option with no yield, it is  slightly  slower  than the row above with yield."
   ]
  },
  {
   "cell_type": "code",
   "execution_count": 41,
   "metadata": {},
   "outputs": [
    {
     "name": "stdout",
     "output_type": "stream",
     "text": [
      "function:'fibonacci' took: 0.0000114440917968750000 secs\n",
      "[1, 2, 3, 5, 8, 13, 21, 34, 55, 89]\n"
     ]
    }
   ],
   "source": [
    "# Execution time: 0.0000119209289550781250\n",
    "@timing\n",
    "def fibonacci(N):\n",
    "    result = []\n",
    "    a, b = 1, 2\n",
    "    for _ in range(N):\n",
    "        result.append(a)\n",
    "        a, b = b, a + b\n",
    "    return result\n",
    "\n",
    "print(fibonacci(10))"
   ]
  },
  {
   "cell_type": "markdown",
   "metadata": {},
   "source": [
    "### Option with recursion, this is the worst case, giving: Execution time: 0.0006339550018310546875 secs"
   ]
  },
  {
   "cell_type": "code",
   "execution_count": 43,
   "metadata": {},
   "outputs": [
    {
     "name": "stdout",
     "output_type": "stream",
     "text": [
      "function:'recursion' took: 0.0006339550018310546875 secs\n",
      "[0, 1, 1, 2, 3, 5, 8, 13, 21, 34, 55, 89, 144, 233, 377]\n"
     ]
    }
   ],
   "source": [
    "def fibonacci_of(n):\n",
    "    if n in {0, 1}:  # Base case\n",
    "            return n\n",
    "    return fibonacci_of(n - 1) + fibonacci_of(n - 2)  # Recursive case\n",
    "\n",
    "@timing\n",
    "def recursion():\n",
    "    return [fibonacci_of(n) for n in range(15)]\n",
    "\n",
    "print(recursion())"
   ]
  },
  {
   "cell_type": "markdown",
   "metadata": {},
   "source": [
    "## Given a list of integers and a target value, return True if the target value\n",
    "## can be obtained by adding two different elements in the list, False otherwise"
   ]
  },
  {
   "cell_type": "code",
   "execution_count": 47,
   "metadata": {},
   "outputs": [
    {
     "name": "stdout",
     "output_type": "stream",
     "text": [
      "function:'find_values_simple' took: 0.0000140666961669921875 secs\n",
      "False\n",
      "function:'find_values_simple' took: 0.0000119209289550781250 secs\n",
      "False\n",
      "function:'find_values_any_length' took: 0.0000145435333251953125 secs\n",
      "True\n",
      "function:'find_values_any_length' took: 0.0000169277191162109375 secs\n",
      "True\n",
      "function:'find_values_any_length' took: 0.0000090599060058593750 secs\n",
      "False\n"
     ]
    }
   ],
   "source": [
    "\"\"\"It works with only a list of length of 4\"\"\"\n",
    "\n",
    "@timing\n",
    "def find_values_simple(list_arg, target):\n",
    "    for i in range(len(list_arg)):\n",
    "        if i<len(list_arg)-1:\n",
    "            result = list_arg[i] + list_arg[i+1]\n",
    "            if result == target and result is not None:\n",
    "                return True\n",
    "        else:\n",
    "            return False\n",
    "        \n",
    "print(find_values_simple([1,2,3,4,5,6], 8))\n",
    "print(find_values_simple([-2, 0, 3, 4], 6))\n",
    "\n",
    "\"\"\"It works for any length of the list\"\"\"\n",
    "@timing\n",
    "def find_values_any_length(nums, target):\n",
    "\"\"\"Reverse search: target minus number in list so you know the rest and then find it in the list\"\"\"\n"
    "\"\"\"Example: find_values_any_length([1,2,3,4,5,6], 9)\"\"\"\n"
    "\"\"\"Expected: 9-5=4, so the number 4 is the one to find in the list to complete the search, if not, false\"\"\"\n"
    
    "    l = []\n",
    "    d = dict()\n",
    "    for pos, num in enumerate(nums):\n",
    "        if target-num in d:\n",
    "            l.append(d[target-num])\n",
    "            l.append(pos)\n",
    "            break\n",
    "        d[num] = pos\n",
    "    if len(l)<=0:\n",
    "        return False\n",
    "    return True\n",
    "    \n",
    "print(find_values_any_length([1,2,3,4,5,6], 9))\n",
    "print(find_values_any_length([1,2,3,4,5,6,7,8,9,10,11,12,13,14,15,16,17,18,19,20], 28))\n",
    "print(find_values_any_length([-2, 0, 3, 4], 6))\n"
   ]
  },
  {
   "cell_type": "markdown",
   "metadata": {},
   "source": [
    "## Do a match of lists not matter their length and keep the ones found repeated in both:"
   ]
  },
  {
   "cell_type": "code",
   "execution_count": 23,
   "metadata": {},
   "outputs": [
    {
     "name": "stdout",
     "output_type": "stream",
     "text": [
      "('LISTS MATCH: ', True)\n"
     ]
    }
   ],
   "source": [
    "import random\n",
    "import string\n",
    "import numpy as np\n",
    "\n",
    "\n",
    "def generate_lists():\n",
    "    \"\"\" Generate two random lists, add some items from list_1 to list2,\n",
    "    mess up the list_2 and find the matches in between both and it shoud return True.\"\"\"\n",
    "    list_1 = generate_random_list()\n",
    "    list_2 = generate_random_list()\n",
    "    list_1.sort()\n",
    "    # Add some of the items from list_1 to match\n",
    "    list_2.extend(list_1[1:15])\n",
    "    # Duplicate some items from the same list\n",
    "    [list_2.append(i) for i in list_2[1:15]]\n",
    "    # Add more random items\n",
    "    list_2.extend(generate_random_list())\n",
    "    return \"LISTS MATCH: \", filter_lists(list_1, list_2) == list_1[1:15]\n",
    "\n",
    "def generate_random_list() -> list:\n",
    "    letters = string.ascii_lowercase\n",
    "    return [\"\".join(random.choice(letters) for i in range(10)) for i in range(20)]\n",
    "    \n",
    "def filter_lists(list_1:list, list_2:list)-> list:\n",
    "    matches = []\n",
    "    unique_a = np.unique(list_1)\n",
    "    unique_b = np.unique(list_2)\n",
    "    for a in unique_a:\n",
    "        for b in unique_b:\n",
    "            if b.__contains__(a):\n",
    "                matches.append(a)\n",
    "    matches.sort()\n",
    "    return matches\n",
    "\n",
    "print(generate_lists())"
   ]
  },
  {
   "cell_type": "code",
   "execution_count": null,
   "metadata": {},
   "outputs": [],
   "source": []
  },
  {
   "cell_type": "code",
   "execution_count": null,
   "metadata": {},
   "outputs": [],
   "source": []
  }
 ],
 "metadata": {
  "kernelspec": {
   "display_name": "Python 3",
   "language": "python",
   "name": "python3"
  },
  "language_info": {
   "codemirror_mode": {
    "name": "ipython",
    "version": 3
   },
   "file_extension": ".py",
   "mimetype": "text/x-python",
   "name": "python",
   "nbconvert_exporter": "python",
   "pygments_lexer": "ipython3",
   "version": "3.8.3"
  }
 },
 "nbformat": 4,
 "nbformat_minor": 5
}
